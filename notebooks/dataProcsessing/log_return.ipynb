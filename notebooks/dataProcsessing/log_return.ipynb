{
 "cells": [
  {
   "cell_type": "code",
   "execution_count": 7,
   "id": "9917abce-f8a4-42c4-8e7f-c5a9de466011",
   "metadata": {},
   "outputs": [
    {
     "name": "stdout",
     "output_type": "stream",
     "text": [
      "  ticker        date     open     high      low    close\n",
      "0   ABBV  2013-01-02  34.9200  35.4000  34.1000  35.1200\n",
      "1   ABBV  2013-01-03  35.0000  35.0000  34.1600  34.8300\n",
      "2   ABBV  2013-01-04  22.9947  23.1732  22.7505  22.8398\n",
      "3   ABBV  2013-01-07  22.6809  23.5459  22.6809  22.8888\n",
      "4   ABBV  2013-01-08  22.7760  23.0095  22.1581  22.3916\n"
     ]
    }
   ],
   "source": [
    "import pandas as pd\n",
    "import numpy as np\n",
    "\n",
    "# Specify the file path\n",
    "path_file = \"../data/sorted_nyse_data.csv\"\n",
    "\n",
    "# Read the CSV file into a DataFrameb\n",
    "data = pd.read_csv(path_file)\n",
    "\n",
    "# Check the first few rows of the data\n",
    "print(data.head())"
   ]
  },
  {
   "cell_type": "code",
   "execution_count": 8,
   "id": "d65eb9ad-a6a6-4cd2-ab3e-31b6d6a87274",
   "metadata": {},
   "outputs": [
    {
     "name": "stdout",
     "output_type": "stream",
     "text": [
      "100\n"
     ]
    }
   ],
   "source": [
    "print(data[\"ticker\"].nunique())"
   ]
  },
  {
   "cell_type": "code",
   "execution_count": 18,
   "id": "78841fe9-ddc4-4477-ac39-fd1dffeaab99",
   "metadata": {},
   "outputs": [],
   "source": [
    "#Compute log return\n",
    "data['log_return'] = np.log(data['close'] / data['open'])\n",
    "\n",
    "# Drop NaN values (since the first log return will be NaN)\n",
    "data.dropna(subset=['log_return'], inplace=True)"
   ]
  },
  {
   "cell_type": "code",
   "execution_count": 19,
   "id": "b9deb79b-33f6-4d95-b38e-273b0f50b4f4",
   "metadata": {},
   "outputs": [],
   "source": [
    "# Save DataFrame to CSV\n",
    "save_path = \"../data/sorted_nyse_data.csv\"\n",
    "data.to_csv(save_path, index=False)"
   ]
  }
 ],
 "metadata": {
  "kernelspec": {
   "display_name": "Python 3 (ipykernel)",
   "language": "python",
   "name": "python3"
  },
  "language_info": {
   "codemirror_mode": {
    "name": "ipython",
    "version": 3
   },
   "file_extension": ".py",
   "mimetype": "text/x-python",
   "name": "python",
   "nbconvert_exporter": "python",
   "pygments_lexer": "ipython3",
   "version": "3.13.2"
  }
 },
 "nbformat": 4,
 "nbformat_minor": 5
}
