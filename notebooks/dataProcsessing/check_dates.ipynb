{
 "cells": [
  {
   "cell_type": "code",
   "execution_count": 2,
   "id": "f6cdd6a5-c4cc-4718-a63d-b052bc816575",
   "metadata": {},
   "outputs": [],
   "source": [
    "import pandas as pd\n",
    "import pandas_market_calendars as mcal"
   ]
  },
  {
   "cell_type": "code",
   "execution_count": 7,
   "id": "74da7fcf-b2bd-4fa5-a39f-49caf1ce17a1",
   "metadata": {},
   "outputs": [],
   "source": [
    "import pandas as pd\n",
    "import pandas_market_calendars as mcal\n",
    "\n",
    "\n",
    "def validate_trading_data(df, calendar_name=\"NYSE\", date_col=\"date\", ticker_col=\"ticker\"):\n",
    "    df = df.copy()\n",
    "    df = df.sort_values(by=[ticker_col, date_col]).reset_index(drop=True)\n",
    "\n",
    "    cal = mcal.get_calendar(calendar_name)\n",
    "\n",
    "    # Dictionnaire pour stocker les jours manquants par ticker\n",
    "    missing_dates_by_ticker = {}\n",
    "\n",
    "    for ticker, group in df.groupby(ticker_col):\n",
    "        start = group[date_col].min()\n",
    "        end = group[date_col].max()\n",
    "\n",
    "        valid_days = cal.valid_days(start_date=start, end_date=end).tz_localize(None)\n",
    "        actual_dates = pd.Series(group[date_col].unique())\n",
    "        missing = sorted(set(valid_days) - set(actual_dates))\n",
    "        if missing:\n",
    "            missing_dates_by_ticker[ticker] = missing\n",
    "\n",
    "    return missing_dates_by_ticker"
   ]
  },
  {
   "cell_type": "code",
   "execution_count": 8,
   "id": "769d6e72-2730-4616-a95e-59878c971ffc",
   "metadata": {},
   "outputs": [
    {
     "name": "stdout",
     "output_type": "stream",
     "text": [
      "✅ Aucune date manquante détectée !\n"
     ]
    }
   ],
   "source": [
    "\n",
    "df = pd.read_csv(\"../../data/csv/nyse/IBM.csv\", parse_dates=[\"datetime\"])\n",
    "df[\"ticker\"] = \"IBM\"\n",
    "missing_dates = validate_trading_data(df, date_col = \"datetime\")\n",
    "\n",
    "if not missing_dates:\n",
    "    print(\"✅ Aucune date manquante détectée !\")\n",
    "for ticker, dates in missing_dates.items():\n",
    "    print(f\"\\n{ticker} is missing {len(dates)} trading days:\")"
   ]
  }
 ],
 "metadata": {
  "kernelspec": {
   "display_name": "Python 3 (ipykernel)",
   "language": "python",
   "name": "python3"
  },
  "language_info": {
   "codemirror_mode": {
    "name": "ipython",
    "version": 3
   },
   "file_extension": ".py",
   "mimetype": "text/x-python",
   "name": "python",
   "nbconvert_exporter": "python",
   "pygments_lexer": "ipython3",
   "version": "3.13.2"
  }
 },
 "nbformat": 4,
 "nbformat_minor": 5
}
